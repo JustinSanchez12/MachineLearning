{
 "cells": [
  {
   "cell_type": "code",
   "execution_count": 1,
   "id": "00939eeb",
   "metadata": {},
   "outputs": [],
   "source": [
    "import pandas as pd\n",
    "cars = pd.read_csv('cars.csv')"
   ]
  },
  {
   "cell_type": "code",
   "execution_count": 2,
   "id": "589702ce",
   "metadata": {
    "scrolled": false
   },
   "outputs": [
    {
     "data": {
      "text/html": [
       "<div>\n",
       "<style scoped>\n",
       "    .dataframe tbody tr th:only-of-type {\n",
       "        vertical-align: middle;\n",
       "    }\n",
       "\n",
       "    .dataframe tbody tr th {\n",
       "        vertical-align: top;\n",
       "    }\n",
       "\n",
       "    .dataframe thead th {\n",
       "        text-align: right;\n",
       "    }\n",
       "</style>\n",
       "<table border=\"1\" class=\"dataframe\">\n",
       "  <thead>\n",
       "    <tr style=\"text-align: right;\">\n",
       "      <th></th>\n",
       "      <th>name</th>\n",
       "      <th>year</th>\n",
       "      <th>selling_price</th>\n",
       "      <th>km_driven</th>\n",
       "      <th>fuel</th>\n",
       "      <th>seller_type</th>\n",
       "      <th>transmission</th>\n",
       "      <th>owner</th>\n",
       "      <th>mileage</th>\n",
       "      <th>engine</th>\n",
       "      <th>max_power</th>\n",
       "      <th>torque</th>\n",
       "      <th>seats</th>\n",
       "    </tr>\n",
       "  </thead>\n",
       "  <tbody>\n",
       "    <tr>\n",
       "      <th>0</th>\n",
       "      <td>Maruti Swift Dzire VDI</td>\n",
       "      <td>2014</td>\n",
       "      <td>450000</td>\n",
       "      <td>145500</td>\n",
       "      <td>Diesel</td>\n",
       "      <td>Individual</td>\n",
       "      <td>Manual</td>\n",
       "      <td>First Owner</td>\n",
       "      <td>23.4 kmpl</td>\n",
       "      <td>1248 CC</td>\n",
       "      <td>74.00</td>\n",
       "      <td>190Nm@ 2000rpm</td>\n",
       "      <td>5.0</td>\n",
       "    </tr>\n",
       "    <tr>\n",
       "      <th>1</th>\n",
       "      <td>Skoda Rapid 1.5 TDI Ambition</td>\n",
       "      <td>2014</td>\n",
       "      <td>370000</td>\n",
       "      <td>120000</td>\n",
       "      <td>Diesel</td>\n",
       "      <td>Individual</td>\n",
       "      <td>Manual</td>\n",
       "      <td>Second Owner</td>\n",
       "      <td>21.14 kmpl</td>\n",
       "      <td>1498 CC</td>\n",
       "      <td>103.52</td>\n",
       "      <td>250Nm@ 1500-2500rpm</td>\n",
       "      <td>5.0</td>\n",
       "    </tr>\n",
       "    <tr>\n",
       "      <th>2</th>\n",
       "      <td>Honda City 2017-2020 EXi</td>\n",
       "      <td>2006</td>\n",
       "      <td>158000</td>\n",
       "      <td>140000</td>\n",
       "      <td>Petrol</td>\n",
       "      <td>Individual</td>\n",
       "      <td>Manual</td>\n",
       "      <td>Third Owner</td>\n",
       "      <td>17.7 kmpl</td>\n",
       "      <td>1497 CC</td>\n",
       "      <td>78.00</td>\n",
       "      <td>12.7@ 2,700(kgm@ rpm)</td>\n",
       "      <td>5.0</td>\n",
       "    </tr>\n",
       "    <tr>\n",
       "      <th>3</th>\n",
       "      <td>Hyundai i20 Sportz Diesel</td>\n",
       "      <td>2010</td>\n",
       "      <td>225000</td>\n",
       "      <td>127000</td>\n",
       "      <td>Diesel</td>\n",
       "      <td>Individual</td>\n",
       "      <td>Manual</td>\n",
       "      <td>First Owner</td>\n",
       "      <td>23.0 kmpl</td>\n",
       "      <td>1396 CC</td>\n",
       "      <td>90.00</td>\n",
       "      <td>22.4 kgm at 1750-2750rpm</td>\n",
       "      <td>5.0</td>\n",
       "    </tr>\n",
       "    <tr>\n",
       "      <th>4</th>\n",
       "      <td>Maruti Swift VXI BSIII</td>\n",
       "      <td>2007</td>\n",
       "      <td>130000</td>\n",
       "      <td>120000</td>\n",
       "      <td>Petrol</td>\n",
       "      <td>Individual</td>\n",
       "      <td>Manual</td>\n",
       "      <td>First Owner</td>\n",
       "      <td>16.1 kmpl</td>\n",
       "      <td>1298 CC</td>\n",
       "      <td>88.20</td>\n",
       "      <td>11.5@ 4,500(kgm@ rpm)</td>\n",
       "      <td>5.0</td>\n",
       "    </tr>\n",
       "  </tbody>\n",
       "</table>\n",
       "</div>"
      ],
      "text/plain": [
       "                           name  year  selling_price  km_driven    fuel  \\\n",
       "0        Maruti Swift Dzire VDI  2014         450000     145500  Diesel   \n",
       "1  Skoda Rapid 1.5 TDI Ambition  2014         370000     120000  Diesel   \n",
       "2      Honda City 2017-2020 EXi  2006         158000     140000  Petrol   \n",
       "3     Hyundai i20 Sportz Diesel  2010         225000     127000  Diesel   \n",
       "4        Maruti Swift VXI BSIII  2007         130000     120000  Petrol   \n",
       "\n",
       "  seller_type transmission         owner     mileage   engine  max_power  \\\n",
       "0  Individual       Manual   First Owner   23.4 kmpl  1248 CC      74.00   \n",
       "1  Individual       Manual  Second Owner  21.14 kmpl  1498 CC     103.52   \n",
       "2  Individual       Manual   Third Owner   17.7 kmpl  1497 CC      78.00   \n",
       "3  Individual       Manual   First Owner   23.0 kmpl  1396 CC      90.00   \n",
       "4  Individual       Manual   First Owner   16.1 kmpl  1298 CC      88.20   \n",
       "\n",
       "                     torque  seats  \n",
       "0            190Nm@ 2000rpm    5.0  \n",
       "1       250Nm@ 1500-2500rpm    5.0  \n",
       "2     12.7@ 2,700(kgm@ rpm)    5.0  \n",
       "3  22.4 kgm at 1750-2750rpm    5.0  \n",
       "4     11.5@ 4,500(kgm@ rpm)    5.0  "
      ]
     },
     "execution_count": 2,
     "metadata": {},
     "output_type": "execute_result"
    }
   ],
   "source": [
    "cars.head()"
   ]
  },
  {
   "cell_type": "code",
   "execution_count": 3,
   "id": "f40b9957",
   "metadata": {
    "scrolled": false
   },
   "outputs": [
    {
     "name": "stdout",
     "output_type": "stream",
     "text": [
      "<class 'pandas.core.frame.DataFrame'>\n",
      "RangeIndex: 8128 entries, 0 to 8127\n",
      "Data columns (total 13 columns):\n",
      " #   Column         Non-Null Count  Dtype  \n",
      "---  ------         --------------  -----  \n",
      " 0   name           8128 non-null   object \n",
      " 1   year           8128 non-null   int64  \n",
      " 2   selling_price  8128 non-null   int64  \n",
      " 3   km_driven      8128 non-null   int64  \n",
      " 4   fuel           8128 non-null   object \n",
      " 5   seller_type    8128 non-null   object \n",
      " 6   transmission   8128 non-null   object \n",
      " 7   owner          8128 non-null   object \n",
      " 8   mileage        7907 non-null   object \n",
      " 9   engine         7907 non-null   object \n",
      " 10  max_power      7912 non-null   float64\n",
      " 11  torque         7906 non-null   object \n",
      " 12  seats          7907 non-null   float64\n",
      "dtypes: float64(2), int64(3), object(8)\n",
      "memory usage: 825.6+ KB\n"
     ]
    }
   ],
   "source": [
    "cars.info()"
   ]
  },
  {
   "cell_type": "code",
   "execution_count": 4,
   "id": "0a976310",
   "metadata": {
    "scrolled": false
   },
   "outputs": [
    {
     "data": {
      "image/png": "[encoded data removed]",
      "text/plain": [
       "<Figure size 1440x1080 with 6 Axes>"
      ]
     },
     "metadata": {
      "needs_background": "light"
     },
     "output_type": "display_data"
    }
   ],
   "source": [
    "%matplotlib inline\n",
    "import matplotlib.pyplot as plt\n",
    "cars.hist(bins=100, figsize=(20,15))\n",
    "plt.show()"
   ]
  },
  {
   "cell_type": "code",
   "execution_count": 5,
   "id": "77a305a8",
   "metadata": {},
   "outputs": [],
   "source": [
    "cars = cars.dropna(axis=0, how='any',thresh=None,subset=None,inplace=False)"
   ]
  },
  {
   "cell_type": "code",
   "execution_count": 6,
   "id": "3ac0ecc6",
   "metadata": {},
   "outputs": [],
   "source": [
    "cars['engine'] = cars['engine'].str.replace(' ','')\n",
    "cars['engine'] = cars['engine'].str.replace('CC','')\n",
    "cars['engine'] = cars['engine'].astype(str).astype(float)"
   ]
  },
  {
   "cell_type": "code",
   "execution_count": 7,
   "id": "98026a5c",
   "metadata": {},
   "outputs": [],
   "source": [
    "cars['mileage'] = cars['mileage'].str.replace(' ','')\n",
    "cars['mileage'] = cars['mileage'].str.replace('kmpl','')\n",
    "cars['mileage'] = cars['mileage'].str.replace('km/kg','')\n",
    "cars['mileage'] = cars['mileage'].astype(str).astype(float)"
   ]
  },
  {
   "cell_type": "code",
   "execution_count": 8,
   "id": "2e660b33",
   "metadata": {
    "scrolled": true
   },
   "outputs": [
    {
     "name": "stdout",
     "output_type": "stream",
     "text": [
      "<class 'pandas.core.frame.DataFrame'>\n",
      "Int64Index: 7906 entries, 0 to 8127\n",
      "Data columns (total 13 columns):\n",
      " #   Column         Non-Null Count  Dtype  \n",
      "---  ------         --------------  -----  \n",
      " 0   name           7906 non-null   object \n",
      " 1   year           7906 non-null   int64  \n",
      " 2   selling_price  7906 non-null   int64  \n",
      " 3   km_driven      7906 non-null   int64  \n",
      " 4   fuel           7906 non-null   object \n",
      " 5   seller_type    7906 non-null   object \n",
      " 6   transmission   7906 non-null   object \n",
      " 7   owner          7906 non-null   object \n",
      " 8   mileage        7906 non-null   float64\n",
      " 9   engine         7906 non-null   float64\n",
      " 10  max_power      7906 non-null   float64\n",
      " 11  torque         7906 non-null   object \n",
      " 12  seats          7906 non-null   float64\n",
      "dtypes: float64(4), int64(3), object(6)\n",
      "memory usage: 864.7+ KB\n"
     ]
    }
   ],
   "source": [
    "cars.info()"
   ]
  },
  {
   "cell_type": "code",
   "execution_count": 83,
   "id": "03ba78b8",
   "metadata": {},
   "outputs": [
    {
     "data": {
      "text/html": [
       "<div>\n",
       "<style scoped>\n",
       "    .dataframe tbody tr th:only-of-type {\n",
       "        vertical-align: middle;\n",
       "    }\n",
       "\n",
       "    .dataframe tbody tr th {\n",
       "        vertical-align: top;\n",
       "    }\n",
       "\n",
       "    .dataframe thead th {\n",
       "        text-align: right;\n",
       "    }\n",
       "</style>\n",
       "<table border=\"1\" class=\"dataframe\">\n",
       "  <thead>\n",
       "    <tr style=\"text-align: right;\">\n",
       "      <th></th>\n",
       "      <th>year</th>\n",
       "      <th>selling_price</th>\n",
       "      <th>km_driven</th>\n",
       "      <th>mileage</th>\n",
       "      <th>engine</th>\n",
       "      <th>max_power</th>\n",
       "      <th>seats</th>\n",
       "    </tr>\n",
       "  </thead>\n",
       "  <tbody>\n",
       "    <tr>\n",
       "      <th>year</th>\n",
       "      <td>1.000000</td>\n",
       "      <td>0.412302</td>\n",
       "      <td>-0.428548</td>\n",
       "      <td>0.328544</td>\n",
       "      <td>0.018263</td>\n",
       "      <td>0.226598</td>\n",
       "      <td>-0.007923</td>\n",
       "    </tr>\n",
       "    <tr>\n",
       "      <th>selling_price</th>\n",
       "      <td>0.412302</td>\n",
       "      <td>1.000000</td>\n",
       "      <td>-0.222158</td>\n",
       "      <td>-0.126280</td>\n",
       "      <td>0.455682</td>\n",
       "      <td>0.749674</td>\n",
       "      <td>0.041617</td>\n",
       "    </tr>\n",
       "    <tr>\n",
       "      <th>km_driven</th>\n",
       "      <td>-0.428548</td>\n",
       "      <td>-0.222158</td>\n",
       "      <td>1.000000</td>\n",
       "      <td>-0.172980</td>\n",
       "      <td>0.206031</td>\n",
       "      <td>-0.038159</td>\n",
       "      <td>0.227259</td>\n",
       "    </tr>\n",
       "    <tr>\n",
       "      <th>mileage</th>\n",
       "      <td>0.328544</td>\n",
       "      <td>-0.126280</td>\n",
       "      <td>-0.172980</td>\n",
       "      <td>1.000000</td>\n",
       "      <td>-0.576408</td>\n",
       "      <td>-0.374621</td>\n",
       "      <td>-0.451700</td>\n",
       "    </tr>\n",
       "    <tr>\n",
       "      <th>engine</th>\n",
       "      <td>0.018263</td>\n",
       "      <td>0.455682</td>\n",
       "      <td>0.206031</td>\n",
       "      <td>-0.576408</td>\n",
       "      <td>1.000000</td>\n",
       "      <td>0.703975</td>\n",
       "      <td>0.611103</td>\n",
       "    </tr>\n",
       "    <tr>\n",
       "      <th>max_power</th>\n",
       "      <td>0.226598</td>\n",
       "      <td>0.749674</td>\n",
       "      <td>-0.038159</td>\n",
       "      <td>-0.374621</td>\n",
       "      <td>0.703975</td>\n",
       "      <td>1.000000</td>\n",
       "      <td>0.191999</td>\n",
       "    </tr>\n",
       "    <tr>\n",
       "      <th>seats</th>\n",
       "      <td>-0.007923</td>\n",
       "      <td>0.041617</td>\n",
       "      <td>0.227259</td>\n",
       "      <td>-0.451700</td>\n",
       "      <td>0.611103</td>\n",
       "      <td>0.191999</td>\n",
       "      <td>1.000000</td>\n",
       "    </tr>\n",
       "  </tbody>\n",
       "</table>\n",
       "</div>"
      ],
      "text/plain": [
       "                   year  selling_price  km_driven   mileage    engine  \\\n",
       "year           1.000000       0.412302  -0.428548  0.328544  0.018263   \n",
       "selling_price  0.412302       1.000000  -0.222158 -0.126280  0.455682   \n",
       "km_driven     -0.428548      -0.222158   1.000000 -0.172980  0.206031   \n",
       "mileage        0.328544      -0.126280  -0.172980  1.000000 -0.576408   \n",
       "engine         0.018263       0.455682   0.206031 -0.576408  1.000000   \n",
       "max_power      0.226598       0.749674  -0.038159 -0.374621  0.703975   \n",
       "seats         -0.007923       0.041617   0.227259 -0.451700  0.611103   \n",
       "\n",
       "               max_power     seats  \n",
       "year            0.226598 -0.007923  \n",
       "selling_price   0.749674  0.041617  \n",
       "km_driven      -0.038159  0.227259  \n",
       "mileage        -0.374621 -0.451700  \n",
       "engine          0.703975  0.611103  \n",
       "max_power       1.000000  0.191999  \n",
       "seats           0.191999  1.000000  "
      ]
     },
     "execution_count": 83,
     "metadata": {},
     "output_type": "execute_result"
    }
   ],
   "source": [
    "corr_matrix = cars.corr()\n",
    "corr_matrix"
   ]
  },
  {
   "cell_type": "code",
   "execution_count": 84,
   "id": "8f5cb8d8",
   "metadata": {},
   "outputs": [
    {
     "data": {
      "text/plain": [
       "selling_price    1.000000\n",
       "max_power        0.749674\n",
       "engine           0.455682\n",
       "year             0.412302\n",
       "seats            0.041617\n",
       "mileage         -0.126280\n",
       "km_driven       -0.222158\n",
       "Name: selling_price, dtype: float64"
      ]
     },
     "execution_count": 84,
     "metadata": {},
     "output_type": "execute_result"
    }
   ],
   "source": [
    "corr_matrix[\"selling_price\"].sort_values(ascending=False)"
   ]
  },
  {
   "cell_type": "code",
   "execution_count": 85,
   "id": "91a3473b",
   "metadata": {},
   "outputs": [
    {
     "data": {
      "text/plain": [
       "array([[<AxesSubplot:xlabel='selling_price', ylabel='selling_price'>,\n",
       "        <AxesSubplot:xlabel='max_power', ylabel='selling_price'>,\n",
       "        <AxesSubplot:xlabel='year', ylabel='selling_price'>,\n",
       "        <AxesSubplot:xlabel='seats', ylabel='selling_price'>,\n",
       "        <AxesSubplot:xlabel='km_driven', ylabel='selling_price'>,\n",
       "        <AxesSubplot:xlabel='engine', ylabel='selling_price'>,\n",
       "        <AxesSubplot:xlabel='mileage', ylabel='selling_price'>],\n",
       "       [<AxesSubplot:xlabel='selling_price', ylabel='max_power'>,\n",
       "        <AxesSubplot:xlabel='max_power', ylabel='max_power'>,\n",
       "        <AxesSubplot:xlabel='year', ylabel='max_power'>,\n",
       "        <AxesSubplot:xlabel='seats', ylabel='max_power'>,\n",
       "        <AxesSubplot:xlabel='km_driven', ylabel='max_power'>,\n",
       "        <AxesSubplot:xlabel='engine', ylabel='max_power'>,\n",
       "        <AxesSubplot:xlabel='mileage', ylabel='max_power'>],\n",
       "       [<AxesSubplot:xlabel='selling_price', ylabel='year'>,\n",
       "        <AxesSubplot:xlabel='max_power', ylabel='year'>,\n",
       "        <AxesSubplot:xlabel='year', ylabel='year'>,\n",
       "        <AxesSubplot:xlabel='seats', ylabel='year'>,\n",
       "        <AxesSubplot:xlabel='km_driven', ylabel='year'>,\n",
       "        <AxesSubplot:xlabel='engine', ylabel='year'>,\n",
       "        <AxesSubplot:xlabel='mileage', ylabel='year'>],\n",
       "       [<AxesSubplot:xlabel='selling_price', ylabel='seats'>,\n",
       "        <AxesSubplot:xlabel='max_power', ylabel='seats'>,\n",
       "        <AxesSubplot:xlabel='year', ylabel='seats'>,\n",
       "        <AxesSubplot:xlabel='seats', ylabel='seats'>,\n",
       "        <AxesSubplot:xlabel='km_driven', ylabel='seats'>,\n",
       "        <AxesSubplot:xlabel='engine', ylabel='seats'>,\n",
       "        <AxesSubplot:xlabel='mileage', ylabel='seats'>],\n",
       "       [<AxesSubplot:xlabel='selling_price', ylabel='km_driven'>,\n",
       "        <AxesSubplot:xlabel='max_power', ylabel='km_driven'>,\n",
       "        <AxesSubplot:xlabel='year', ylabel='km_driven'>,\n",
       "        <AxesSubplot:xlabel='seats', ylabel='km_driven'>,\n",
       "        <AxesSubplot:xlabel='km_driven', ylabel='km_driven'>,\n",
       "        <AxesSubplot:xlabel='engine', ylabel='km_driven'>,\n",
       "        <AxesSubplot:xlabel='mileage', ylabel='km_driven'>],\n",
       "       [<AxesSubplot:xlabel='selling_price', ylabel='engine'>,\n",
       "        <AxesSubplot:xlabel='max_power', ylabel='engine'>,\n",
       "        <AxesSubplot:xlabel='year', ylabel='engine'>,\n",
       "        <AxesSubplot:xlabel='seats', ylabel='engine'>,\n",
       "        <AxesSubplot:xlabel='km_driven', ylabel='engine'>,\n",
       "        <AxesSubplot:xlabel='engine', ylabel='engine'>,\n",
       "        <AxesSubplot:xlabel='mileage', ylabel='engine'>],\n",
       "       [<AxesSubplot:xlabel='selling_price', ylabel='mileage'>,\n",
       "        <AxesSubplot:xlabel='max_power', ylabel='mileage'>,\n",
       "        <AxesSubplot:xlabel='year', ylabel='mileage'>,\n",
       "        <AxesSubplot:xlabel='seats', ylabel='mileage'>,\n",
       "        <AxesSubplot:xlabel='km_driven', ylabel='mileage'>,\n",
       "        <AxesSubplot:xlabel='engine', ylabel='mileage'>,\n",
       "        <AxesSubplot:xlabel='mileage', ylabel='mileage'>]], dtype=object)"
      ]
     },
     "execution_count": 85,
     "metadata": {},
     "output_type": "execute_result"
    },
    {
     "data": {
      "image/png": "[encoded data removed]",
      "text/plain": [
       "<Figure size 864x576 with 49 Axes>"
      ]
     },
     "metadata": {
      "needs_background": "light"
     },
     "output_type": "display_data"
    }
   ],
   "source": [
    "from pandas.plotting import scatter_matrix\n",
    "\n",
    "attributes= [\"selling_price\",\"max_power\",\"year\", \"seats\", \"km_driven\",\"engine\",\"mileage\"]\n",
    "scatter_matrix(cars[attributes], figsize=(12,8))"
   ]
  },
  {
   "cell_type": "code",
   "execution_count": 86,
   "id": "1d73df7a",
   "metadata": {},
   "outputs": [],
   "source": [
    "cars = cars.drop(['name','torque'], axis = 1)"
   ]
  },
  {
   "cell_type": "code",
   "execution_count": 87,
   "id": "ab3bd544",
   "metadata": {},
   "outputs": [],
   "source": [
    "from sklearn.model_selection import train_test_split\n",
    "\n",
    "train_set, test_set = train_test_split(cars, test_size = 0.2, random_state =42)"
   ]
  },
  {
   "cell_type": "code",
   "execution_count": 88,
   "id": "5a03209a",
   "metadata": {},
   "outputs": [],
   "source": [
    "cars_labels = train_set['selling_price'].copy()\n",
    "cars_train = train_set.drop('selling_price', axis = 1)"
   ]
  },
  {
   "cell_type": "code",
   "execution_count": 89,
   "id": "1eb4ef61",
   "metadata": {},
   "outputs": [],
   "source": [
    "cars_num = cars_train.drop(['fuel', 'seller_type', 'transmission', 'owner'], axis = 1)\n",
    "cars_cat = cars_train[['fuel','seller_type', 'transmission','owner']]"
   ]
  },
  {
   "cell_type": "code",
   "execution_count": 90,
   "id": "54170ce1",
   "metadata": {},
   "outputs": [
    {
     "name": "stdout",
     "output_type": "stream",
     "text": [
      "<class 'pandas.core.frame.DataFrame'>\n",
      "Int64Index: 6324 entries, 3064 to 7479\n",
      "Data columns (total 6 columns):\n",
      " #   Column     Non-Null Count  Dtype  \n",
      "---  ------     --------------  -----  \n",
      " 0   year       6324 non-null   int64  \n",
      " 1   km_driven  6324 non-null   int64  \n",
      " 2   mileage    6324 non-null   float64\n",
      " 3   engine     6324 non-null   float64\n",
      " 4   max_power  6324 non-null   float64\n",
      " 5   seats      6324 non-null   float64\n",
      "dtypes: float64(4), int64(2)\n",
      "memory usage: 345.8 KB\n"
     ]
    }
   ],
   "source": [
    "cars_num.info()"
   ]
  },
  {
   "cell_type": "code",
   "execution_count": 91,
   "id": "92b65820",
   "metadata": {},
   "outputs": [
    {
     "name": "stdout",
     "output_type": "stream",
     "text": [
      "<class 'pandas.core.frame.DataFrame'>\n",
      "Int64Index: 6324 entries, 3064 to 7479\n",
      "Data columns (total 4 columns):\n",
      " #   Column        Non-Null Count  Dtype \n",
      "---  ------        --------------  ----- \n",
      " 0   fuel          6324 non-null   object\n",
      " 1   seller_type   6324 non-null   object\n",
      " 2   transmission  6324 non-null   object\n",
      " 3   owner         6324 non-null   object\n",
      "dtypes: object(4)\n",
      "memory usage: 247.0+ KB\n"
     ]
    }
   ],
   "source": [
    "cars_cat.info()"
   ]
  },
  {
   "cell_type": "code",
   "execution_count": 92,
   "id": "d98e07e5",
   "metadata": {},
   "outputs": [],
   "source": [
    "from sklearn.impute import SimpleImputer\n",
    "from sklearn.pipeline import Pipeline\n",
    "from sklearn.preprocessing import StandardScaler\n",
    "from sklearn.preprocessing import OneHotEncoder\n",
    "from sklearn.compose import ColumnTransformer"
   ]
  },
  {
   "cell_type": "code",
   "execution_count": 93,
   "id": "de45271e",
   "metadata": {},
   "outputs": [],
   "source": [
    "num_pipeline = Pipeline([\n",
    "        ('imputer', SimpleImputer(strategy=\"median\")),\n",
    "        ('std_scaler', StandardScaler()),\n",
    "    ])"
   ]
  },
  {
   "cell_type": "code",
   "execution_count": 94,
   "id": "a001b23f",
   "metadata": {},
   "outputs": [],
   "source": [
    "num_attribs = list(cars_num)\n",
    "cat_attribs = [\"fuel\",\"seller_type\",\"transmission\",\"owner\"]\n",
    "\n",
    "full_pipeline = ColumnTransformer([\n",
    "        (\"num\", num_pipeline, num_attribs),\n",
    "        (\"cat\", OneHotEncoder(), cat_attribs),\n",
    "    ])"
   ]
  },
  {
   "cell_type": "code",
   "execution_count": 95,
   "id": "cdc841da",
   "metadata": {},
   "outputs": [],
   "source": [
    "cars_train_prepare = full_pipeline.fit_transform(cars_train)"
   ]
  },
  {
   "cell_type": "markdown",
   "id": "a34d9507",
   "metadata": {},
   "source": [
    "# Testing The Train Set"
   ]
  },
  {
   "cell_type": "code",
   "execution_count": 96,
   "id": "601bb8af",
   "metadata": {},
   "outputs": [
    {
     "data": {
      "text/plain": [
       "LinearRegression()"
      ]
     },
     "execution_count": 96,
     "metadata": {},
     "output_type": "execute_result"
    }
   ],
   "source": [
    "from sklearn.linear_model import LinearRegression\n",
    "\n",
    "lin_reg = LinearRegression()\n",
    "lin_reg.fit(cars_train_prepare, cars_labels)"
   ]
  },
  {
   "cell_type": "code",
   "execution_count": 97,
   "id": "f17052dd",
   "metadata": {},
   "outputs": [
    {
     "data": {
      "text/plain": [
       "455321.346968622"
      ]
     },
     "execution_count": 97,
     "metadata": {},
     "output_type": "execute_result"
    }
   ],
   "source": [
    "from sklearn.metrics import mean_squared_error\n",
    "import numpy as np\n",
    "\n",
    "cars_prediction = lin_reg.predict(cars_train_prepare)\n",
    "lin_mse = mean_squared_error(cars_labels, cars_prediction)\n",
    "lin_rmse = np.sqrt(lin_mse)\n",
    "lin_rmse"
   ]
  },
  {
   "cell_type": "code",
   "execution_count": 98,
   "id": "74ab295e",
   "metadata": {},
   "outputs": [
    {
     "data": {
      "text/plain": [
       "LinearRegression()"
      ]
     },
     "execution_count": 98,
     "metadata": {},
     "output_type": "execute_result"
    }
   ],
   "source": [
    "from sklearn.preprocessing import PolynomialFeatures\n",
    "poly_2_features = PolynomialFeatures(degree=2, include_bias=False)\n",
    "cars_train_prepare_poly_2 = poly_2_features.fit_transform(cars_train_prepare)\n",
    "\n",
    "poly_reg_2 = LinearRegression()\n",
    "poly_reg_2.fit(cars_train_prepare_poly_2, cars_labels)"
   ]
  },
  {
   "cell_type": "code",
   "execution_count": 99,
   "id": "ad7a68c3",
   "metadata": {},
   "outputs": [
    {
     "data": {
      "text/plain": [
       "241011.1121347286"
      ]
     },
     "execution_count": 99,
     "metadata": {},
     "output_type": "execute_result"
    }
   ],
   "source": [
    "cars_predictions_poly = poly_reg_2.predict(cars_train_prepare_poly_2)\n",
    "poly_reg_2_mse = mean_squared_error(cars_labels, cars_predictions_poly)\n",
    "poly_reg_2_rmse = np.sqrt(poly_reg_2_mse)\n",
    "poly_reg_2_rmse"
   ]
  },
  {
   "cell_type": "code",
   "execution_count": 100,
   "id": "1885558f",
   "metadata": {},
   "outputs": [
    {
     "data": {
      "text/plain": [
       "LinearRegression()"
      ]
     },
     "execution_count": 100,
     "metadata": {},
     "output_type": "execute_result"
    }
   ],
   "source": [
    "poly_3_features = PolynomialFeatures(degree=3, include_bias=False)\n",
    "cars_train_prepare_poly_3 = poly_3_features.fit_transform(cars_train_prepare)\n",
    "\n",
    "poly_reg_3 = LinearRegression()\n",
    "poly_reg_3.fit(cars_train_prepare_poly_3, cars_labels)"
   ]
  },
  {
   "cell_type": "code",
   "execution_count": 101,
   "id": "18a92828",
   "metadata": {},
   "outputs": [
    {
     "data": {
      "text/plain": [
       "167962.43996609686"
      ]
     },
     "execution_count": 101,
     "metadata": {},
     "output_type": "execute_result"
    }
   ],
   "source": [
    "cars_predictions_poly3 = poly_reg_3.predict(cars_train_prepare_poly_3)\n",
    "poly_reg_3_mse = mean_squared_error(cars_labels, cars_predictions_poly3)\n",
    "poly_reg_3_rmse = np.sqrt(poly_reg_3_mse)\n",
    "poly_reg_3_rmse"
   ]
  },
  {
   "cell_type": "markdown",
   "id": "6a013f1c",
   "metadata": {},
   "source": [
    "# Testing The Test Set"
   ]
  },
  {
   "cell_type": "code",
   "execution_count": 102,
   "id": "18e5bfb6",
   "metadata": {},
   "outputs": [],
   "source": [
    "cars_test_labels = test_set['selling_price'].copy()\n",
    "cars_test = test_set.drop('selling_price', axis = 1)\n",
    "\n",
    "cars_test_prepare = full_pipeline.transform(cars_test)"
   ]
  },
  {
   "cell_type": "code",
   "execution_count": 103,
   "id": "f1043d63",
   "metadata": {},
   "outputs": [
    {
     "data": {
      "text/plain": [
       "466358.90389042033"
      ]
     },
     "execution_count": 103,
     "metadata": {},
     "output_type": "execute_result"
    }
   ],
   "source": [
    "cars_test_prediction = lin_reg.predict(cars_test_prepare)\n",
    "\n",
    "lin_test_mse = mean_squared_error(cars_test_labels, cars_test_prediction)\n",
    "lin_test_rmse = np.sqrt(lin_test_mse)\n",
    "lin_test_rmse"
   ]
  },
  {
   "cell_type": "code",
   "execution_count": 104,
   "id": "7d3d63be",
   "metadata": {},
   "outputs": [
    {
     "data": {
      "text/plain": [
       "1326269653221046.2"
      ]
     },
     "execution_count": 104,
     "metadata": {},
     "output_type": "execute_result"
    }
   ],
   "source": [
    "cars_test_prepare_poly2 = poly_2_features.transform(cars_test_prepare)\n",
    "cars_test_prediction_poly2 = poly_reg_2.predict(cars_test_prepare_poly2)\n",
    "\n",
    "poly_2_mse = mean_squared_error(cars_test_labels, cars_test_prediction_poly2)\n",
    "poly_2_rmse = np.sqrt(poly_2_mse)\n",
    "poly_2_rmse"
   ]
  },
  {
   "cell_type": "code",
   "execution_count": 105,
   "id": "0f01b1af",
   "metadata": {
    "scrolled": true
   },
   "outputs": [
    {
     "data": {
      "text/plain": [
       "LinearRegression()"
      ]
     },
     "execution_count": 105,
     "metadata": {},
     "output_type": "execute_result"
    }
   ],
   "source": [
    "lin_test_reg = LinearRegression()\n",
    "lin_reg.fit(cars_test_prepare, cars_test_labels)"
   ]
  },
  {
   "cell_type": "code",
   "execution_count": 106,
   "id": "1a5d97c9",
   "metadata": {},
   "outputs": [
    {
     "data": {
      "text/plain": [
       "905985.4477166572"
      ]
     },
     "execution_count": 106,
     "metadata": {},
     "output_type": "execute_result"
    }
   ],
   "source": [
    "cars_test_prepare_poly3 = poly_3_features.transform(cars_test_prepare)\n",
    "cars_test_prediction_poly3 = poly_reg_3.predict(cars_test_prepare_poly3)\n",
    "\n",
    "poly_3_mse = mean_squared_error(cars_test_labels, cars_test_prediction_poly3)\n",
    "poly_3_rmse = np.sqrt(poly_3_mse)\n",
    "poly_3_rmse"
   ]
  },
  {
   "cell_type": "markdown",
   "id": "4a58ffee",
   "metadata": {},
   "source": [
    "# Addressing Overfitting on Train Set"
   ]
  },
  {
   "cell_type": "code",
   "execution_count": 107,
   "id": "b964c914",
   "metadata": {},
   "outputs": [
    {
     "data": {
      "text/plain": [
       "ElasticNet(alpha=0.1)"
      ]
     },
     "execution_count": 107,
     "metadata": {},
     "output_type": "execute_result"
    }
   ],
   "source": [
    "from sklearn.linear_model import ElasticNet\n",
    "elastic_net = ElasticNet(alpha=0.1, l1_ratio=0.5) #l1_ratio = r\n",
    "elastic_net.fit(cars_train_prepare, cars_labels)"
   ]
  },
  {
   "cell_type": "code",
   "execution_count": 108,
   "id": "fbbed9ef",
   "metadata": {},
   "outputs": [
    {
     "name": "stderr",
     "output_type": "stream",
     "text": [
      "<ipython-input-108-d48678938ee1>:2: UserWarning: With alpha=0, this algorithm does not converge well. You are advised to use the LinearRegression estimator\n",
      "  elastic_net_poly2_reg.fit(cars_train_prepare_poly_2, cars_labels)\n",
      "/Users/Justin_Sanchez/opt/anaconda3/lib/python3.8/site-packages/sklearn/linear_model/_coordinate_descent.py:530: UserWarning: Coordinate descent with no regularization may lead to unexpected results and is discouraged.\n",
      "  model = cd_fast.enet_coordinate_descent(\n",
      "/Users/Justin_Sanchez/opt/anaconda3/lib/python3.8/site-packages/sklearn/linear_model/_coordinate_descent.py:530: ConvergenceWarning: Objective did not converge. You might want to increase the number of iterations. Duality gap: 183003593249986.0, tolerance: 413250509991.8652\n",
      "  model = cd_fast.enet_coordinate_descent(\n"
     ]
    },
    {
     "data": {
      "text/plain": [
       "240574.10333106067"
      ]
     },
     "execution_count": 108,
     "metadata": {},
     "output_type": "execute_result"
    }
   ],
   "source": [
    "elastic_net_poly2_reg = ElasticNet(alpha=0.0, l1_ratio=0.99)\n",
    "elastic_net_poly2_reg.fit(cars_train_prepare_poly_2, cars_labels)\n",
    "\n",
    "cars_train_predictions_poly2 = elastic_net_poly2_reg.predict(cars_train_prepare_poly_2)\n",
    "elastic_net_poly2_mse = mean_squared_error(cars_labels, cars_train_predictions_poly2)\n",
    "elastic_net_poly2_rmse = np.sqrt(elastic_net_poly2_mse)\n",
    "elastic_net_poly2_rmse"
   ]
  },
  {
   "cell_type": "code",
   "execution_count": 109,
   "id": "71edcb31",
   "metadata": {},
   "outputs": [
    {
     "name": "stderr",
     "output_type": "stream",
     "text": [
      "/Users/Justin_Sanchez/opt/anaconda3/lib/python3.8/site-packages/sklearn/linear_model/_coordinate_descent.py:530: ConvergenceWarning: Objective did not converge. You might want to increase the number of iterations. Duality gap: 126016507844765.95, tolerance: 413250509991.8652\n",
      "  model = cd_fast.enet_coordinate_descent(\n"
     ]
    },
    {
     "data": {
      "text/plain": [
       "186574.97303786656"
      ]
     },
     "execution_count": 109,
     "metadata": {},
     "output_type": "execute_result"
    }
   ],
   "source": [
    "elastic_net_poly3_reg = ElasticNet(alpha=0.1, l1_ratio=0.5)\n",
    "elastic_net_poly3_reg.fit(cars_train_prepare_poly_3, cars_labels)\n",
    "\n",
    "cars_train_predictions_poly3 = elastic_net_poly3_reg.predict(cars_train_prepare_poly_3)\n",
    "elastic_net_poly3_mse = mean_squared_error(cars_labels, cars_train_predictions_poly3)\n",
    "elastic_net_poly3_rmse = np.sqrt(elastic_net_poly3_mse)\n",
    "elastic_net_poly3_rmse"
   ]
  },
  {
   "cell_type": "markdown",
   "id": "60991608",
   "metadata": {},
   "source": [
    "# Addressing Overfitting on Test Set"
   ]
  },
  {
   "cell_type": "code",
   "execution_count": 110,
   "id": "bf407388",
   "metadata": {},
   "outputs": [
    {
     "data": {
      "text/plain": [
       "ElasticNet(alpha=0.1)"
      ]
     },
     "execution_count": 110,
     "metadata": {},
     "output_type": "execute_result"
    }
   ],
   "source": [
    "elastic_net = ElasticNet(alpha=0.1, l1_ratio=0.5) #l1_ratio = r\n",
    "elastic_net.fit(cars_test_prepare, cars_test_labels)"
   ]
  },
  {
   "cell_type": "code",
   "execution_count": 111,
   "id": "3065628d",
   "metadata": {},
   "outputs": [
    {
     "name": "stderr",
     "output_type": "stream",
     "text": [
      "<ipython-input-111-4b3422621c4b>:2: UserWarning: With alpha=0, this algorithm does not converge well. You are advised to use the LinearRegression estimator\n",
      "  elastic_net_test_poly2_reg.fit(cars_test_prepare_poly2, cars_test_labels)\n",
      "/Users/Justin_Sanchez/opt/anaconda3/lib/python3.8/site-packages/sklearn/linear_model/_coordinate_descent.py:530: UserWarning: Coordinate descent with no regularization may lead to unexpected results and is discouraged.\n",
      "  model = cd_fast.enet_coordinate_descent(\n",
      "/Users/Justin_Sanchez/opt/anaconda3/lib/python3.8/site-packages/sklearn/linear_model/_coordinate_descent.py:530: ConvergenceWarning: Objective did not converge. You might want to increase the number of iterations. Duality gap: 36390801415303.14, tolerance: 109993777014.34996\n",
      "  model = cd_fast.enet_coordinate_descent(\n"
     ]
    },
    {
     "data": {
      "text/plain": [
       "214490.25632245734"
      ]
     },
     "execution_count": 111,
     "metadata": {},
     "output_type": "execute_result"
    }
   ],
   "source": [
    "elastic_net_test_poly2_reg = ElasticNet(alpha=0.0, l1_ratio=0.99)\n",
    "elastic_net_test_poly2_reg.fit(cars_test_prepare_poly2, cars_test_labels)\n",
    "\n",
    "cars_test_predictions_poly2 = elastic_net_test_poly2_reg.predict(cars_test_prepare_poly2)\n",
    "elastic_net_test_poly2_mse = mean_squared_error(cars_test_labels, cars_test_predictions_poly2)\n",
    "elastic_net_test_poly2_rmse = np.sqrt(elastic_net_test_poly2_mse)\n",
    "elastic_net_test_poly2_rmse"
   ]
  },
  {
   "cell_type": "code",
   "execution_count": 112,
   "id": "27ed007c",
   "metadata": {
    "scrolled": true
   },
   "outputs": [
    {
     "name": "stderr",
     "output_type": "stream",
     "text": [
      "<ipython-input-112-2be4382b8a67>:2: UserWarning: With alpha=0, this algorithm does not converge well. You are advised to use the LinearRegression estimator\n",
      "  elastic_net_test_poly3_reg.fit(cars_test_prepare_poly3, cars_test_labels)\n",
      "/Users/Justin_Sanchez/opt/anaconda3/lib/python3.8/site-packages/sklearn/linear_model/_coordinate_descent.py:530: UserWarning: Coordinate descent with no regularization may lead to unexpected results and is discouraged.\n",
      "  model = cd_fast.enet_coordinate_descent(\n",
      "/Users/Justin_Sanchez/opt/anaconda3/lib/python3.8/site-packages/sklearn/linear_model/_coordinate_descent.py:530: ConvergenceWarning: Objective did not converge. You might want to increase the number of iterations. Duality gap: 13104533965734.16, tolerance: 109993777014.34996\n",
      "  model = cd_fast.enet_coordinate_descent(\n"
     ]
    },
    {
     "data": {
      "text/plain": [
       "128713.04025976952"
      ]
     },
     "execution_count": 112,
     "metadata": {},
     "output_type": "execute_result"
    }
   ],
   "source": [
    "elastic_net_test_poly3_reg = ElasticNet(alpha=0.0, l1_ratio=0.99)\n",
    "elastic_net_test_poly3_reg.fit(cars_test_prepare_poly3, cars_test_labels)\n",
    "\n",
    "cars_test_predictions_poly3 = elastic_net_test_poly3_reg.predict(cars_test_prepare_poly3)\n",
    "elastic_net_test_poly3_mse = mean_squared_error(cars_test_labels, cars_test_predictions_poly3)\n",
    "elastic_net_test_poly3_rmse = np.sqrt(elastic_net_test_poly3_mse)\n",
    "elastic_net_test_poly3_rmse"
   ]
  },
  {
   "cell_type": "markdown",
   "id": "48cd7e7d",
   "metadata": {},
   "source": [
    "# Decision Tree Regressor"
   ]
  },
  {
   "cell_type": "code",
   "execution_count": 113,
   "id": "04fb4b14",
   "metadata": {},
   "outputs": [
    {
     "data": {
      "text/plain": [
       "DecisionTreeRegressor(max_depth=10, random_state=42)"
      ]
     },
     "execution_count": 113,
     "metadata": {},
     "output_type": "execute_result"
    }
   ],
   "source": [
    "from sklearn.tree import DecisionTreeRegressor\n",
    "\n",
    "tree_reg = DecisionTreeRegressor(max_depth=10, random_state=42)\n",
    "tree_reg.fit(cars_train_prepare,cars_labels)"
   ]
  },
  {
   "cell_type": "code",
   "execution_count": 114,
   "id": "f58f2964",
   "metadata": {},
   "outputs": [
    {
     "data": {
      "text/plain": [
       "90014.55845279257"
      ]
     },
     "execution_count": 114,
     "metadata": {},
     "output_type": "execute_result"
    }
   ],
   "source": [
    "tree_prediction = tree_reg.predict(cars_train_prepare)\n",
    "tree_mse = mean_squared_error(cars_labels,tree_prediction)\n",
    "tree_rmse = np.sqrt(tree_mse)\n",
    "tree_rmse"
   ]
  },
  {
   "cell_type": "code",
   "execution_count": 115,
   "id": "8ce7490b",
   "metadata": {},
   "outputs": [
    {
     "data": {
      "text/plain": [
       "DecisionTreeRegressor(max_depth=10, random_state=42)"
      ]
     },
     "execution_count": 115,
     "metadata": {},
     "output_type": "execute_result"
    }
   ],
   "source": [
    "tree_test_reg = DecisionTreeRegressor(max_depth=10, random_state=42)\n",
    "tree_test_reg.fit(cars_test_prepare,cars_test_labels)"
   ]
  },
  {
   "cell_type": "code",
   "execution_count": 116,
   "id": "938d2bb3",
   "metadata": {},
   "outputs": [
    {
     "data": {
      "text/plain": [
       "73555.99122728797"
      ]
     },
     "execution_count": 116,
     "metadata": {},
     "output_type": "execute_result"
    }
   ],
   "source": [
    "tree_test_prediction = tree_test_reg.predict(cars_test_prepare)\n",
    "tree_test_mse = mean_squared_error(cars_test_labels,tree_test_prediction)\n",
    "tree_test_rmse = np.sqrt(tree_test_mse)\n",
    "tree_test_rmse"
   ]
  },
  {
   "cell_type": "markdown",
   "id": "c25795cd",
   "metadata": {},
   "source": [
    "# Random Forrest Regressor"
   ]
  },
  {
   "cell_type": "code",
   "execution_count": 117,
   "id": "e0651bef",
   "metadata": {},
   "outputs": [
    {
     "data": {
      "text/plain": [
       "RandomForestRegressor(random_state=42)"
      ]
     },
     "execution_count": 117,
     "metadata": {},
     "output_type": "execute_result"
    }
   ],
   "source": [
    "from sklearn.ensemble import RandomForestRegressor\n",
    "\n",
    "forest_reg = RandomForestRegressor(n_estimators=100, random_state=42)\n",
    "forest_reg.fit(cars_train_prepare, cars_labels)"
   ]
  },
  {
   "cell_type": "code",
   "execution_count": 118,
   "id": "2fc4f1cd",
   "metadata": {},
   "outputs": [
    {
     "data": {
      "text/plain": [
       "58426.22913438811"
      ]
     },
     "execution_count": 118,
     "metadata": {},
     "output_type": "execute_result"
    }
   ],
   "source": [
    "forest_prediction = forest_reg.predict(cars_train_prepare)\n",
    "forest_mse = mean_squared_error(cars_labels, forest_prediction)\n",
    "forest_rmse = np.sqrt(forest_mse)\n",
    "forest_rmse"
   ]
  },
  {
   "cell_type": "code",
   "execution_count": 119,
   "id": "b07b931e",
   "metadata": {},
   "outputs": [
    {
     "data": {
      "text/plain": [
       "RandomForestRegressor(random_state=42)"
      ]
     },
     "execution_count": 119,
     "metadata": {},
     "output_type": "execute_result"
    }
   ],
   "source": [
    "forest_test_reg = RandomForestRegressor(n_estimators=100, random_state=42)\n",
    "forest_test_reg.fit(cars_test_prepare, cars_test_labels)"
   ]
  },
  {
   "cell_type": "code",
   "execution_count": 120,
   "id": "e200e62e",
   "metadata": {},
   "outputs": [
    {
     "data": {
      "text/plain": [
       "70529.97708577468"
      ]
     },
     "execution_count": 120,
     "metadata": {},
     "output_type": "execute_result"
    }
   ],
   "source": [
    "cars_test_predictions = forest_test_reg.predict(cars_test_prepare)\n",
    "forest_test_mse = mean_squared_error(cars_test_labels, cars_test_predictions)\n",
    "forest_test_rmse = np.sqrt(forest_test_mse)\n",
    "forest_test_rmse"
   ]
  },
  {
   "cell_type": "code",
   "execution_count": 121,
   "id": "122c6a08",
   "metadata": {},
   "outputs": [],
   "source": [
    "def display_scores(scores):\n",
    "    print('Scores:', scores)\n",
    "    print('Mean:', scores.mean())\n",
    "    print('Standard Deviation:', scores.std())"
   ]
  },
  {
   "cell_type": "code",
   "execution_count": 129,
   "id": "00ea179b",
   "metadata": {},
   "outputs": [
    {
     "data": {
      "text/plain": [
       "GridSearchCV(cv=5, estimator=RandomForestRegressor(random_state=42),\n",
       "             param_grid=[{'max_features': [4, 6, 8, 10],\n",
       "                          'n_estimators': [3, 10, 30]},\n",
       "                         {'bootstrap': [False], 'max_features': [2, 3, 4],\n",
       "                          'n_estimators': [3, 10]}],\n",
       "             return_train_score=True, scoring='neg_mean_squared_error')"
      ]
     },
     "execution_count": 129,
     "metadata": {},
     "output_type": "execute_result"
    }
   ],
   "source": [
    "from sklearn.model_selection import GridSearchCV\n",
    "\n",
    "param_grid = [\n",
    "   \n",
    "    {'n_estimators': [3, 10, 30], 'max_features': [4, 6, 8, 10]},\n",
    "    {'bootstrap': [False], 'n_estimators': [3, 10], 'max_features': [2, 3, 4]},\n",
    "  ]\n",
    "\n",
    "forest_reg = RandomForestRegressor(random_state=42)\n",
    "grid_search = GridSearchCV(forest_reg, param_grid, cv=5,\n",
    "                           scoring='neg_mean_squared_error',\n",
    "                           return_train_score=True)\n",
    "grid_search.fit(cars_train_prepare, cars_labels)"
   ]
  },
  {
   "cell_type": "code",
   "execution_count": 130,
   "id": "fcdead6f",
   "metadata": {
    "scrolled": true
   },
   "outputs": [
    {
     "data": {
      "text/plain": [
       "{'max_features': 10, 'n_estimators': 30}"
      ]
     },
     "execution_count": 130,
     "metadata": {},
     "output_type": "execute_result"
    }
   ],
   "source": [
    "grid_search.best_params_"
   ]
  },
  {
   "cell_type": "code",
   "execution_count": 131,
   "id": "09c40ba7",
   "metadata": {},
   "outputs": [
    {
     "data": {
      "text/plain": [
       "RandomForestRegressor(max_features=10, n_estimators=30, random_state=42)"
      ]
     },
     "execution_count": 131,
     "metadata": {},
     "output_type": "execute_result"
    }
   ],
   "source": [
    "grid_search.best_estimator_"
   ]
  },
  {
   "cell_type": "code",
   "execution_count": 132,
   "id": "f59dd160",
   "metadata": {},
   "outputs": [
    {
     "data": {
      "text/plain": [
       "RandomForestRegressor(max_features=10, n_estimators=30, random_state=42)"
      ]
     },
     "execution_count": 132,
     "metadata": {},
     "output_type": "execute_result"
    }
   ],
   "source": [
    "forest_reg = RandomForestRegressor(n_estimators=30, max_features = 10, random_state=42)\n",
    "forest_reg.fit(cars_train_prepare, cars_labels)"
   ]
  },
  {
   "cell_type": "code",
   "execution_count": 133,
   "id": "a1881280",
   "metadata": {},
   "outputs": [
    {
     "data": {
      "text/plain": [
       "58273.84324147096"
      ]
     },
     "execution_count": 133,
     "metadata": {},
     "output_type": "execute_result"
    }
   ],
   "source": [
    "forest_prediction = forest_reg.predict(cars_train_prepare)\n",
    "forest_mse = mean_squared_error(cars_labels, forest_prediction)\n",
    "forest_rmse = np.sqrt(forest_mse)\n",
    "forest_rmse"
   ]
  },
  {
   "cell_type": "code",
   "execution_count": 136,
   "id": "ba32458c",
   "metadata": {},
   "outputs": [
    {
     "data": {
      "text/plain": [
       "GridSearchCV(cv=5, estimator=RandomForestRegressor(random_state=42),\n",
       "             param_grid=[{'max_features': [4, 6, 8, 10],\n",
       "                          'n_estimators': [3, 10, 30]},\n",
       "                         {'bootstrap': [False], 'max_features': [2, 3, 4],\n",
       "                          'n_estimators': [3, 10]}],\n",
       "             return_train_score=True, scoring='neg_mean_squared_error')"
      ]
     },
     "execution_count": 136,
     "metadata": {},
     "output_type": "execute_result"
    }
   ],
   "source": [
    "from sklearn.model_selection import GridSearchCV\n",
    "\n",
    "param_grid = [\n",
    "   \n",
    "    {'n_estimators': [3, 10, 30], 'max_features': [4, 6, 8, 10]},\n",
    "    {'bootstrap': [False], 'n_estimators': [3, 10], 'max_features': [2, 3, 4]},\n",
    "  ]\n",
    "\n",
    "forest_test_reg = RandomForestRegressor(random_state=42)\n",
    "grid_test_search = GridSearchCV(forest_test_reg, param_grid, cv=5,\n",
    "                           scoring='neg_mean_squared_error',\n",
    "                           return_train_score=True)\n",
    "grid_test_search.fit(cars_test_prepare, cars_test_labels)"
   ]
  },
  {
   "cell_type": "code",
   "execution_count": 137,
   "id": "627d5325",
   "metadata": {},
   "outputs": [
    {
     "data": {
      "text/plain": [
       "{'max_features': 4, 'n_estimators': 30}"
      ]
     },
     "execution_count": 137,
     "metadata": {},
     "output_type": "execute_result"
    }
   ],
   "source": [
    "grid_test_search.best_params_"
   ]
  },
  {
   "cell_type": "code",
   "execution_count": 138,
   "id": "d5744277",
   "metadata": {},
   "outputs": [
    {
     "data": {
      "text/plain": [
       "70790.49057682164"
      ]
     },
     "execution_count": 138,
     "metadata": {},
     "output_type": "execute_result"
    }
   ],
   "source": [
    "forest_test_reg = RandomForestRegressor(n_estimators=30, max_features = 4, random_state=42)\n",
    "forest_test_reg.fit(cars_test_prepare, cars_test_labels)\n",
    "\n",
    "forest_test_prediction = forest_test_reg.predict(cars_test_prepare)\n",
    "forest_test_mse = mean_squared_error(cars_test_labels, forest_test_prediction)\n",
    "forest_test_rmse = np.sqrt(forest_test_mse)\n",
    "forest_test_rmse"
   ]
  },
  {
   "cell_type": "code",
   "execution_count": null,
   "id": "00100abd",
   "metadata": {},
   "outputs": [],
   "source": []
  }
 ],
 "metadata": {
  "kernelspec": {
   "display_name": "Python 3",
   "language": "python",
   "name": "python3"
  },
  "language_info": {
   "codemirror_mode": {
    "name": "ipython",
    "version": 3
   },
   "file_extension": ".py",
   "mimetype": "text/x-python",
   "name": "python",
   "nbconvert_exporter": "python",
   "pygments_lexer": "ipython3",
   "version": "3.8.8"
  }
 },
 "nbformat": 4,
 "nbformat_minor": 5
}
